{
 "cells": [
  {
   "cell_type": "code",
   "execution_count": null,
   "metadata": {},
   "outputs": [],
   "source": [
    "import os\n",
    "import cv2\n",
    "import numpy as np\n",
    "import pandas as pd\n",
    "from tensorflow.keras.utils import to_categorical\n",
    "\n",
    "def load_images_and_labels_from_csv(csv_path, images_dir, image_size=(32, 32), num_classes=43):\n",
    "    images = []\n",
    "    labels = []\n",
    "    data = pd.read_csv(csv_path)\n",
    "    for idx, row in data.iterrows():\n",
    "        image_path = os.path.join(images_dir, row['Path'].replace('/', os.sep))\n",
    "        image = cv2.imread(image_path, cv2.IMREAD_COLOR)\n",
    "        if image is not None:\n",
    "            image = cv2.resize(image, image_size)\n",
    "            images.append(image)\n",
    "            labels.append(int(row['ClassId']))\n",
    "        else:\n",
    "            print(f\"Failed to load image at path: {image_path}\")\n",
    "    images = np.array(images).astype('float32') / 255.0\n",
    "    labels = to_categorical(np.array(labels), num_classes)\n",
    "    return images, labels\n",
    "train_dir = r'C:\\Users\\Abdullah\\Desktop\\Derin_Ogrenme\\GTSRB'\n",
    "train_csv = r'C:\\Users\\Abdullah\\Desktop\\Derin_Ogrenme\\GTSRB\\Train.csv'\n",
    "valid_dir = r'C:\\Users\\Abdullah\\Desktop\\Derin_Ogrenme\\GTSRB'\n",
    "valid_csv = r'C:\\Users\\Abdullah\\Desktop\\Derin_Ogrenme\\GTSRB\\Meta.csv'\n",
    "test_dir = r'C:\\Users\\Abdullah\\Desktop\\Derin_Ogrenme\\GTSRB'\n",
    "test_csv = r'C:\\Users\\Abdullah\\Desktop\\Derin_Ogrenme\\GTSRB\\Test.csv'\n",
    "\n",
    "X_train, y_train = load_images_and_labels_from_csv(train_csv, train_dir)\n",
    "X_valid, y_valid = load_images_and_labels_from_csv(valid_csv, valid_dir)\n",
    "X_test, y_test = load_images_and_labels_from_csv(test_csv, test_dir)\n",
    "print(\"Training data shape:\", X_train.shape, y_train.shape)\n",
    "print(\"Validation data shape:\", X_valid.shape, y_valid.shape)\n",
    "print(\"Test data shape:\", X_test.shape, y_test.shape)\n"
   ]
  }
 ],
 "metadata": {
  "language_info": {
   "name": "python"
  }
 },
 "nbformat": 4,
 "nbformat_minor": 2
}
